{
 "cells": [
  {
   "cell_type": "markdown",
   "id": "71590a77",
   "metadata": {},
   "source": [
    "Question 1"
   ]
  },
  {
   "cell_type": "code",
   "execution_count": null,
   "id": "74e3b046",
   "metadata": {},
   "outputs": [],
   "source": [
    "import re\n",
    "\n",
    "def replace_characters(text):\n",
    "    return re.sub(r'[ ,.]', ':', text)\n",
    "\n",
    "# Example \n",
    "text = \"Hello, world. This is a test.\"\n",
    "result = replace_characters(text)\n",
    "print(result)\n"
   ]
  },
  {
   "cell_type": "markdown",
   "id": "fbf2ff8e",
   "metadata": {},
   "source": [
    "Question 2"
   ]
  },
  {
   "cell_type": "code",
   "execution_count": null,
   "id": "2b6585f7",
   "metadata": {},
   "outputs": [],
   "source": [
    "import pandas as pd\n",
    "import re\n",
    "\n",
    "data = {'SUMMARY': ['hello, world!', 'XXXXX test', '123four, five:; six...']}\n",
    "\n",
    "def clean_text(text):\n",
    "    pattern = re.compile(r'[^\\w\\s]')\n",
    "    return pattern.sub('', text)\n",
    "\n",
    "df = pd.DataFrame(data)\n",
    "df['SUMMARY'] = df['SUMMARY'].apply(clean_text)\n",
    "\n",
    "# Example \n",
    "print(df)"
   ]
  },
  {
   "cell_type": "markdown",
   "id": "7abcfd3c",
   "metadata": {},
   "source": [
    "Question 3"
   ]
  },
  {
   "cell_type": "code",
   "execution_count": null,
   "id": "0d95d25b",
   "metadata": {},
   "outputs": [],
   "source": [
    "import re\n",
    "\n",
    "def find_long_words(text):\n",
    "    pattern = re.compile(r'\\b\\w{4,}\\b')\n",
    "    return pattern.findall(text)\n",
    "\n",
    "# Example :\n",
    "text = \"This is an example to find words that are at least four characters long.\"\n",
    "long_words = find_long_words(text)\n",
    "print(long_words)  # Output: ['This', 'example', 'find', 'words', 'that', 'least', 'four', 'characters', 'long']\n"
   ]
  },
  {
   "cell_type": "markdown",
   "id": "40b48c47",
   "metadata": {},
   "source": [
    "Question 4"
   ]
  },
  {
   "cell_type": "code",
   "execution_count": null,
   "id": "dcca8c2b",
   "metadata": {},
   "outputs": [],
   "source": [
    "import re\n",
    "\n",
    "def find_words(text):\n",
    "    pattern = re.compile(r'\\b\\w{3,5}\\b')\n",
    "    return pattern.findall(text)\n",
    "\n",
    "# Example :\n",
    "text = \"This is an example to find words with three, four, and five characters.\"\n",
    "words = find_words(text)\n",
    "print(words)  # Output: ['This', 'is', 'an', 'find', 'words', 'with', 'three', 'four', 'and', 'five']\n"
   ]
  },
  {
   "cell_type": "markdown",
   "id": "6bb7a334",
   "metadata": {},
   "source": [
    "Question 5"
   ]
  },
  {
   "cell_type": "code",
   "execution_count": null,
   "id": "8a3682a1",
   "metadata": {},
   "outputs": [],
   "source": [
    "import re\n",
    "\n",
    "def remove_parenthesis(strings):\n",
    "    pattern = re.compile(r\"\\s*\\(.*?\\)\\s*\")\n",
    "    return [pattern.sub(\"\", s) for s in strings]\n",
    "\n",
    "# Example :\n",
    "strings_with_parenthesis = [\"example (.com)\", \"hr@fliprobo (.com)\", \"github (.com)\", \"Hello (Data Science World)\", \"Data (Scientist)\"]\n",
    "cleaned_strings = remove_parenthesis(strings_with_parenthesis)\n",
    "for s in cleaned_strings:\n",
    "    print(s)\n"
   ]
  },
  {
   "cell_type": "markdown",
   "id": "a8017429",
   "metadata": {},
   "source": [
    "Question 6"
   ]
  },
  {
   "cell_type": "code",
   "execution_count": null,
   "id": "eb92576d",
   "metadata": {},
   "outputs": [],
   "source": [
    "import re\n",
    "\n",
    "def remove_parenthesis_area(text):\n",
    "    return re.sub(r'\\s*\\(.*?\\)\\s*', '', text)\n",
    "with open('input.txt', 'r') as file:\n",
    "    content = file.read()\n",
    "cleaned_content = remove_parenthesis_area(content)\n",
    "with open('output.txt', 'w') as file:\n",
    "    file.write(cleaned_content)\n"
   ]
  },
  {
   "cell_type": "markdown",
   "id": "d411316e",
   "metadata": {},
   "source": [
    "Question 7"
   ]
  },
  {
   "cell_type": "code",
   "execution_count": null,
   "id": "6e8ef906",
   "metadata": {},
   "outputs": [],
   "source": [
    "import re\n",
    "\n",
    "def split_uppercase(text):\n",
    "    # Split string at uppercase letters\n",
    "    split_text = re.split(r'(?=[A-Z])', text)\n",
    "    return split_text\n",
    "\n",
    "# Example :\n",
    "Example = \"ThisIsATestString\"\n",
    "output_text = split_uppercase(Example)\n",
    "print(output_text)\n"
   ]
  },
  {
   "cell_type": "markdown",
   "id": "62a34587",
   "metadata": {},
   "source": [
    "Question 8"
   ]
  },
  {
   "cell_type": "code",
   "execution_count": null,
   "id": "81551681",
   "metadata": {},
   "outputs": [],
   "source": [
    "import re\n",
    "\n",
    "def insert_spaces_numbers(text):\n",
    "    # Insert space before numbers\n",
    "    spaced_text = re.sub(r'(?<!^)(?=\\d)', ' ', text)\n",
    "    return spaced_text\n",
    "\n",
    "# Example :\n",
    "Example = \"ThisIs1Test2Code3\"\n",
    "output_text = insert_spaces_numbers(Example)\n",
    "print(output_text)\n"
   ]
  },
  {
   "cell_type": "markdown",
   "id": "ea66f5c4",
   "metadata": {},
   "source": [
    "Question 9"
   ]
  },
  {
   "cell_type": "code",
   "execution_count": null,
   "id": "fc839e78",
   "metadata": {},
   "outputs": [],
   "source": [
    "import re\n",
    "\n",
    "def insert_spaces(text):\n",
    "    # Insert space before capital letters and numbers\n",
    "    spaced_text = re.sub(r'(?<!^)(?=[A-Z0-9])', ' ', text)\n",
    "    return spaced_text\n",
    "\n",
    "# Example :\n",
    "Example = \"ThisIsATest123Code\"\n",
    "output_text = insert_spaces(Example)\n",
    "print(output_text)"
   ]
  },
  {
   "cell_type": "markdown",
   "id": "139c45bc",
   "metadata": {},
   "source": [
    "Question 10"
   ]
  },
  {
   "cell_type": "code",
   "execution_count": null,
   "id": "773e78dc",
   "metadata": {},
   "outputs": [],
   "source": [
    "import pandas as pd\n",
    "\n",
    "# Step 1: Define the GitHub link\n",
    "url = \"https://raw.githubusercontent.com/dsrscientist/DSData/master/happiness_score_dataset.csv\"\n",
    "\n",
    "\n",
    "df = pd.read_csv(url)\n",
    "\n",
    "\n",
    "df['first_six_letters'] = df['Country'].apply(lambda x: x[:6])\n",
    "\n",
    "\n",
    "print(df.head())"
   ]
  },
  {
   "cell_type": "markdown",
   "id": "628191d7",
   "metadata": {},
   "source": [
    "Question 11"
   ]
  },
  {
   "cell_type": "code",
   "execution_count": null,
   "id": "baa6cc78",
   "metadata": {},
   "outputs": [],
   "source": [
    "import re\n",
    "\n",
    "def is_valid_string(s):\n",
    "    return bool(re.match(r'^[A-Za-z0-9_]+$', s))\n",
    "\n",
    "\n",
    "test_string = \"Valid_String_123\"\n",
    "\n",
    "\n",
    "result = is_valid_string(test_string)\n",
    "\n",
    "print(result)\n"
   ]
  },
  {
   "cell_type": "markdown",
   "id": "216871fd",
   "metadata": {},
   "source": [
    "Question 12"
   ]
  },
  {
   "cell_type": "code",
   "execution_count": null,
   "id": "fece0f78",
   "metadata": {},
   "outputs": [],
   "source": [
    "import re\n",
    "\n",
    "def starts_with_number(s, number):\n",
    "    return bool(re.match(f'^{number}', s))\n",
    "\n",
    "\n",
    "test_string = \"123abc\"\n",
    "specific_number = \"123\"\n",
    "\n",
    "\n",
    "result = starts_with_number(test_string, specific_number)\n",
    "\n",
    "print(result)\n"
   ]
  },
  {
   "cell_type": "markdown",
   "id": "8609eb9b",
   "metadata": {},
   "source": [
    "Question 13"
   ]
  },
  {
   "cell_type": "code",
   "execution_count": null,
   "id": "fe49f7c3",
   "metadata": {},
   "outputs": [],
   "source": [
    "import re\n",
    "\n",
    "def remove_leading_zeros(ip_address):\n",
    "    return re.sub(r'\\b0+(?!\\b)', '', ip_address)\n",
    "\n",
    "\n",
    "ip_address = \"192.168.001.001\"\n",
    "\n",
    "\n",
    "cleaned_ip_address = remove_leading_zeros(ip_address)\n",
    "\n",
    "print(cleaned_ip_address)\n"
   ]
  },
  {
   "cell_type": "markdown",
   "id": "3def5854",
   "metadata": {},
   "source": [
    "Question 14"
   ]
  },
  {
   "cell_type": "code",
   "execution_count": null,
   "id": "fa59c608",
   "metadata": {},
   "outputs": [],
   "source": [
    "import re\n",
    "\n",
    "def find_dates(text):\n",
    "    pattern = r'\\b(January|February|March|April|May|June|July|August|September|October|November|December) \\d{1,2}[a-z]{0,2} \\d{4}\\b'\n",
    "    return re.findall(pattern, text)\n",
    "\n",
    "# Write the sample text to a file\n",
    "with open('textfile.txt', 'w') as file:\n",
    "    file.write(\"On August 15th 1947 that India was declared independent from British colonialism, and the reins of control were handed over to the leaders of the Country.\")\n",
    "\n",
    "# Read from the file and find dates\n",
    "with open('textfile.txt', 'r') as file:\n",
    "    text = file.read()\n",
    "import re\n",
    "\n",
    "with open('input.txt', 'w') as file:\n",
    "    file.write(\"On August 15th 1947 that India was declared independent from British colonialism, \"\n",
    "               \"and the reins of control were handed over to the leaders of the Country.\")\n",
    "\n",
    "with open('input.txt', 'r') as file:\n",
    "    text = file.read()\n",
    "\n",
    "pattern = r'\\b(January|February|March|April|May|June|July|August|September|October|November|December)\\s+\\d{1,2}(st|nd|rd|th)?\\s+\\d{4}\\b'\n",
    "date_match = re.search(pattern, text)\n",
    "\n",
    "if date_match:\n",
    "    print(date_match.group())\n",
    "dates = find_dates(text)\n",
    "print(dates)\n"
   ]
  },
  {
   "cell_type": "markdown",
   "id": "3e9883eb",
   "metadata": {},
   "source": [
    "Question 15"
   ]
  },
  {
   "cell_type": "code",
   "execution_count": null,
   "id": "000df0a5",
   "metadata": {},
   "outputs": [],
   "source": [
    "import re\n",
    "\n",
    "def search_literal(string, pattern):\n",
    "    matches = [(match.start(), match.end()) for match in re.finditer(re.escape(pattern), string)]\n",
    "    return matches\n",
    "\n",
    "# Example \n",
    "text = 'Learn Python programming, Python tutorials, and Python development'\n",
    "pattern = 'Python'\n",
    "result = search_literal(text, pattern)\n",
    "print(result)"
   ]
  },
  {
   "cell_type": "markdown",
   "id": "13249b34",
   "metadata": {},
   "source": [
    "Question 16"
   ]
  },
  {
   "cell_type": "code",
   "execution_count": null,
   "id": "d3d5b7f3",
   "metadata": {},
   "outputs": [],
   "source": [
    "import re\n",
    "\n",
    "def search_literal(string, pattern):\n",
    "    matches = [(match.start(), match.end()) for match in re.finditer(re.escape(pattern), string)]\n",
    "    return matches\n",
    "\n",
    "# Example \n",
    "text = 'Learn Python programming, Python tutorials, and Python development'\n",
    "pattern = 'Python'\n",
    "result = search_literal(text, pattern)\n",
    "print(result)"
   ]
  },
  {
   "cell_type": "markdown",
   "id": "727ae7dc",
   "metadata": {},
   "source": [
    "Question 17"
   ]
  },
  {
   "cell_type": "code",
   "execution_count": null,
   "id": "b2a699c9",
   "metadata": {},
   "outputs": [],
   "source": [
    "import re\n",
    "\n",
    "def find_substrings(string, pattern):\n",
    "    matches = [(match.start(), match.end()) for match in re.finditer(pattern, string)]\n",
    "    return matches\n",
    "\n",
    "# Example \n",
    "text = 'HTML development, CSS development, JavaScript development'\n",
    "pattern = 'development'\n",
    "result = find_substrings(text, pattern)\n",
    "print(result)  "
   ]
  },
  {
   "cell_type": "markdown",
   "id": "9997301e",
   "metadata": {},
   "source": [
    "Question 18"
   ]
  },
  {
   "cell_type": "code",
   "execution_count": null,
   "id": "6af97196",
   "metadata": {},
   "outputs": [],
   "source": [
    "def find_substrings(string, substring):\n",
    "    occurrences = []\n",
    "    index = string.find(substring)\n",
    "    while index != -1:\n",
    "        occurrences.append((substring, index))\n",
    "        index = string.find(substring, index + 1)\n",
    "    return occurrences\n",
    "\n",
    "# Example \n",
    "string = \"This is a test string for testing.\"\n",
    "substring = \"test\"\n",
    "result = find_substrings(string, substring)\n",
    "print(result) "
   ]
  },
  {
   "cell_type": "markdown",
   "id": "858cd6a8",
   "metadata": {},
   "source": [
    "Question 19"
   ]
  },
  {
   "cell_type": "code",
   "execution_count": null,
   "id": "b1115109",
   "metadata": {},
   "outputs": [],
   "source": [
    "def convert_date_format(date_str):\n",
    "    yyyy, mm, dd = date_str.split('-')\n",
    "    return f\"{dd}-{mm}-{yyyy}\"\n",
    "\n",
    "# Example \n",
    "date_str = \"2023-10-10\"\n",
    "converted_date = convert_date_format(date_str)\n",
    "print(converted_date) "
   ]
  },
  {
   "cell_type": "markdown",
   "id": "d11751fa",
   "metadata": {},
   "source": [
    "Question 20"
   ]
  },
  {
   "cell_type": "code",
   "execution_count": null,
   "id": "4e3c6a7c",
   "metadata": {},
   "outputs": [],
   "source": [
    "import re\n",
    "\n",
    "def find_decimal_numbers(text):\n",
    "    pattern = re.compile(r'\\b\\d+\\.\\d{1,2}\\b')\n",
    "    return pattern.findall(text)\n",
    "\n",
    "# Example \n",
    "text = \"Here are some decimal numbers: 3.1, 4.56, 78.123, and 0.9.\"\n",
    "result = find_decimal_numbers(text)\n",
    "print(result)\n"
   ]
  },
  {
   "cell_type": "markdown",
   "id": "a0c720f1",
   "metadata": {},
   "source": [
    "Question 21"
   ]
  },
  {
   "cell_type": "code",
   "execution_count": null,
   "id": "7bf8f649",
   "metadata": {},
   "outputs": [],
   "source": [
    "import re\n",
    "\n",
    "def find_numbers_and_positions(text):\n",
    "    for match in re.finditer(r'\\d+', text):\n",
    "        print(f\"Number: {match.group()}, Position: {match.start()}\")\n",
    "\n",
    "# Example \n",
    "text = \"There are 3 apples, 5 bananas, and 12 oranges.\"\n",
    "find_numbers_and_positions(text)\n"
   ]
  },
  {
   "cell_type": "markdown",
   "id": "612b1166",
   "metadata": {},
   "source": [
    "Question 22"
   ]
  },
  {
   "cell_type": "code",
   "execution_count": null,
   "id": "21981485",
   "metadata": {},
   "outputs": [],
   "source": [
    "import re\n",
    "\n",
    "def extract_max_numeric_value(text):\n",
    "    numbers = re.findall(r'\\d+', text)\n",
    "    if not numbers:\n",
    "        return None\n",
    "    return max(map(int, numbers))\n",
    "\n",
    "# Example \n",
    "text = \"Here are some numbers: 10, 300, 50, 4200\"\n",
    "result = extract_max_numeric_value(text)\n",
    "print(result)\n"
   ]
  },
  {
   "cell_type": "markdown",
   "id": "bfae5715",
   "metadata": {},
   "source": [
    "Question 23"
   ]
  },
  {
   "cell_type": "code",
   "execution_count": null,
   "id": "978810a4",
   "metadata": {},
   "outputs": [],
   "source": [
    "import re\n",
    "\n",
    "def insert_spaces(text):\n",
    "    return re.sub(r'([a-z])([A-Z])', r'\\1 \\2', text)\n",
    "\n",
    "# Example \n",
    "text = \"ThisIsAComboSentence\"\n",
    "result = insert_spaces(text)\n",
    "print(result)\n"
   ]
  },
  {
   "cell_type": "markdown",
   "id": "a4dbbeb6",
   "metadata": {},
   "source": [
    "Question 24"
   ]
  },
  {
   "cell_type": "code",
   "execution_count": null,
   "id": "c8c37467",
   "metadata": {},
   "outputs": [],
   "source": [
    "import re\n",
    "\n",
    "def find_sequences(text):\n",
    "    return re.findall(r'\\b[A-Z][a-z]+\\b', text)\n",
    "\n",
    "# Example \n",
    "text = \"Hello there, this is a Test with Some sequences.\"\n",
    "result = find_sequences(text)\n",
    "print(result)\n"
   ]
  },
  {
   "cell_type": "markdown",
   "id": "ecc23195",
   "metadata": {},
   "source": [
    "Question 25"
   ]
  },
  {
   "cell_type": "code",
   "execution_count": null,
   "id": "3bd1b0bb",
   "metadata": {},
   "outputs": [],
   "source": [
    "import re\n",
    "\n",
    "def remove_duplicate_words(sentence):\n",
    "    return re.sub(r'\\b(\\w+)( \\1\\b)+', r'\\1', sentence)\n",
    "\n",
    "# Example \n",
    "sentence = \"This is is a test test sentence sentence.\"\n",
    "result = remove_duplicate_words(sentence)\n",
    "print(result)\n"
   ]
  },
  {
   "cell_type": "markdown",
   "id": "2ed7bffb",
   "metadata": {},
   "source": [
    "Question 26"
   ]
  },
  {
   "cell_type": "code",
   "execution_count": null,
   "id": "844f427b",
   "metadata": {},
   "outputs": [],
   "source": [
    "import re\n",
    "\n",
    "def check_ending_alphanumeric(input_string):\n",
    "    pattern = r\".*[a-zA-Z0-9]$\"\n",
    "    if re.match(pattern, input_string):\n",
    "        return True\n",
    "    else:\n",
    "        return False\n",
    "\n",
    "# Test \n",
    "test_string = \"Hello123\"\n",
    "if check_ending_alphanumeric(test_string):\n",
    "    print(f\"The string '{test_string}' ends with an alphanumeric character.\")\n",
    "else:\n",
    "    print(f\"The string '{test_string}' does not end with an alphanumeric character.\")"
   ]
  },
  {
   "cell_type": "markdown",
   "id": "ea76f15f",
   "metadata": {},
   "source": [
    "Question 27"
   ]
  },
  {
   "cell_type": "code",
   "execution_count": null,
   "id": "4f16177d",
   "metadata": {},
   "outputs": [],
   "source": [
    "import re\n",
    "\n",
    "def extract_hashtags(text):\n",
    "    hashtags = re.findall(r'#\\w+', text)\n",
    "    return hashtags\n",
    "\n",
    "# example\n",
    "Example = \"\"\"RT @kapil_kausik: #Doltiwal I mean #xyzabc is \"hurt\" by #Demonetization as the same has rendered USELESS <ed><U+00A0><U+00BD><ed><U+00B1><U+0089> \"acquired funds\" No wo\"\"\"\n",
    "\n",
    "# Extract Hashtags\n",
    "extracted_hashtags = extract_hashtags(Example)\n",
    "print(extracted_hashtags)\n"
   ]
  },
  {
   "cell_type": "markdown",
   "id": "7ecaaf7d",
   "metadata": {},
   "source": [
    "Question 28"
   ]
  },
  {
   "cell_type": "code",
   "execution_count": null,
   "id": "ba1164f7",
   "metadata": {},
   "outputs": [],
   "source": [
    "import re\n",
    "\n",
    "def remove_unicode_symbols(text):\n",
    "    pattern = re.compile(r'<U\\+[0-9A-Fa-f]{4}>')\n",
    "    cleaned_text = pattern.sub('', text)\n",
    "    return cleaned_text\n",
    "\n",
    "example = \"This is a sample text with strange symbols like <U+1234> and <U+ABCD> .\"\n",
    "cleaned_text = remove_unicode_symbols(example)\n",
    "\n",
    "print(cleaned_text)\n"
   ]
  },
  {
   "cell_type": "markdown",
   "id": "ada20bd6",
   "metadata": {},
   "source": [
    "Question 29"
   ]
  },
  {
   "cell_type": "code",
   "execution_count": null,
   "id": "f13d8494",
   "metadata": {},
   "outputs": [],
   "source": [
    "import re\n",
    "\n",
    "def extract_dates_from_file(file_path):\n",
    "    date_pattern = re.compile(\n",
    "        r'(\\b\\d{1,2}[-/]\\d{1,2}[-/]\\d{2,4}\\b)|'\n",
    "        r'(\\b\\d{4}[-/]\\d{1,2}[-/]\\d{1,2}\\b)|'\n",
    "        r'(\\b\\d{1,2}\\s\\w+\\s\\d{4}\\b)'\n",
    "    )\n",
    "    \n",
    "    with open(file_path, 'r') as file:\n",
    "        text = file.read()\n",
    "    \n",
    "    matches = date_pattern.findall(text)\n",
    "    \n",
    "    dates = [date for match in matches for date in match if date]\n",
    "    \n",
    "    return dates\n",
    "\n",
    "file_path = 'sample_text.txt'\n",
    "\n",
    "with open(file_path, 'w') as file:\n",
    "    file.write(\"Ron was born on 12-09-1992 and he was admitted to school 15-12-1999.\")\n",
    "\n",
    "dates = extract_dates_from_file(file_path)\n",
    "\n",
    "for date in dates:\n",
    "    print(date)\n"
   ]
  },
  {
   "cell_type": "markdown",
   "id": "50205b8e",
   "metadata": {},
   "source": [
    "Question 30"
   ]
  },
  {
   "cell_type": "code",
   "execution_count": null,
   "id": "b1f7c24d",
   "metadata": {},
   "outputs": [],
   "source": [
    "import re\n",
    "\n",
    "def remove_words_within_length_range(text, min_length=2, max_length=4):\n",
    "    pattern = re.compile(r'\\b\\w{' + str(min_length) + r',' + str(max_length) + r'}\\b')\n",
    "    result = pattern.sub('', text)\n",
    "    result = ' '.join(result.split())\n",
    "    return result\n",
    "\n",
    "Example = \"The following example creates an ArrayList with a capacity of 50 elements. 4 elements are then added to the ArrayList and the ArrayList is trimmed accordingly.\"\n",
    "\n",
    "output = remove_words_within_length_range(Example)\n",
    "\n",
    "print(output)\n"
   ]
  }
 ],
 "metadata": {
  "kernelspec": {
   "display_name": "Python 3 (ipykernel)",
   "language": "python",
   "name": "python3"
  },
  "language_info": {
   "codemirror_mode": {
    "name": "ipython",
    "version": 3
   },
   "file_extension": ".py",
   "mimetype": "text/x-python",
   "name": "python",
   "nbconvert_exporter": "python",
   "pygments_lexer": "ipython3",
   "version": "3.11.5"
  }
 },
 "nbformat": 4,
 "nbformat_minor": 5
}
